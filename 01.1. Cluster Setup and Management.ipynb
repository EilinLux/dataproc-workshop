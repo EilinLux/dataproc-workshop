{
 "cells": [
  {
   "cell_type": "markdown",
   "id": "189ef9fb",
   "metadata": {},
   "source": [
    "## Standard Dataproc: Cluster Management with command line\n",
    "\n",
    "This guide will walk you through everything you need to know to successfully run the Dataproc deployment models based on **Dataproc on Compute Engine** (This is the traditional model where you manage YARN-based clusters on Compute Engine VMs). We'll cover prerequisites, a breakdown of each argument, and best practices.\n",
    "\n",
    "### Prerequisites:\n",
    "\n",
    "* **Google Cloud Project:** You need an active Google Cloud Project.\n",
    "* **Billing Enabled:** Billing must be enabled for your project.\n",
    "* **APIs Enabled:** The Dataproc API, Compute Engine API, and Cloud Storage API must be enabled.\n",
    "* **gcloud CLI Installed and Configured:** You've clearly done this as you're running gcloud commands.**Notice** You can run this commands in the Cloud Shell which is command-line access to your Google Cloud resources. \n",
    "\n",
    "\n",
    "### Create a cluster  \n",
    "This is a comprehensive set of gcloud commands to prepare your project and then create the Dataproc cluster. "
   ]
  },
  {
   "cell_type": "code",
   "execution_count": null,
   "id": "6ae9d11f",
   "metadata": {},
   "outputs": [],
   "source": [
    "gcloud auth login\n",
    "\n",
    "REGION=europe-west1\n",
    "gcloud config set dataproc/region $REGION\n",
    "PROJECT_ID=$(gcloud config get-value project) && \\\n",
    "gcloud config set project $PROJECT_ID"
   ]
  },
  {
   "cell_type": "markdown",
   "id": "a23c5da6",
   "metadata": {},
   "source": [
    "  * **`REGION = europe-west1`**: This line defines a shell variable `REGION` and sets its value to `europe-west1`. This makes the region easily reusable in subsequent commands.\n",
    "  * **`gcloud config set dataproc/region $REGION`**: This command sets the default region for Dataproc operations in your `gcloud` configuration. This is convenient because you won't have to explicitly include `--region` in every `gcloud dataproc` command.\n",
    "  * **`PROJECT_ID=$(gcloud config get-value project) && gcloud config set project $PROJECT_ID`**: These commands ensure that your `gcloud` CLI is configured to operate within the correct Google Cloud Project.\n",
    "      * `$(gcloud config get-value project)` retrieves the currently active project ID.\n",
    "      * `PROJECT_ID=...` assigns that value to a shell variable.\n",
    "      * `gcloud config set project $PROJECT_ID` explicitly sets the project for your `gcloud` commands."
   ]
  },
  {
   "cell_type": "code",
   "execution_count": null,
   "id": "046aab28",
   "metadata": {},
   "outputs": [],
   "source": [
    "PROJECT_NUMBER=$(gcloud projects describe $PROJECT_ID --format='value(projectNumber)')\n",
    "gcloud projects add-iam-policy-binding $PROJECT_ID \\\n",
    "  --member=serviceAccount:$PROJECT_NUMBER-compute@developer.gserviceaccount.com \\\n",
    "  --role=roles/storage.admin\n",
    "gcloud compute networks subnets update default --region=$REGION --enable-private-ip-google-access"
   ]
  },
  {
   "cell_type": "markdown",
   "id": "dbae7eb1",
   "metadata": {},
   "source": [
    "  * **`PROJECT_NUMBER=$(gcloud projects describe $PROJECT_ID --format='value(projectNumber)')`**: This retrieves the numerical project number for your Google Cloud Project. This number is part of the default Compute Engine service account name.\n",
    "  * **`gcloud projects add-iam-policy-binding ... --role=roles/storage.admin`**: This grants the `Storage Admin` role to the default Compute Engine service account (`<PROJECT_NUMBER>-compute@developer.gserviceaccount.com`).\n",
    "      * **Why is this important?** Dataproc clusters use this service account (or a custom one if specified) for actions like reading and writing data to Cloud Storage. `roles/storage.admin` gives it broad permissions to manage objects and buckets. This is a common requirement for Spark/Hadoop jobs that interact with Cloud Storage."
   ]
  },
  {
   "cell_type": "code",
   "execution_count": null,
   "id": "62a83d73",
   "metadata": {},
   "outputs": [],
   "source": [
    "gcloud compute networks subnets update default --region=$REGION --enable-private-ip-google-access"
   ]
  },
  {
   "cell_type": "markdown",
   "id": "c3c56ba0",
   "metadata": {},
   "source": [
    "  * **`gcloud compute networks subnets update default --region=$REGION --enable-private-ip-google-access`**: This command enables **Private Google Access** for the `default` subnetwork in your specified region (`europe-west1`).\n",
    "      * **Why is this important, especially with `--no-address`?** When you use the `--no-address` flag with `gcloud dataproc clusters create`, it means your cluster VMs will **not** have external public IP addresses. This enhances security.\n",
    "      * However, even without public IPs, your cluster VMs often need to communicate with Google Cloud APIs (like Dataproc control plane, Cloud Storage, Stackdriver Logging, etc.). Private Google Access allows VMs without external IP addresses to send traffic to Google API and service IP addresses through Google's internal network. Without it, `--no-address` clusters might fail to communicate with necessary Google services.\n",
    "      * While enabling the feature itself is beneficial, using the default subnet for production workloads might be a point of architectural review for very mature or large-scale environments. In such scenarios, best practices often suggest Custom Subnets, which are Designing custom-mode VPC networks with dedicated subnets for different application tiers or environments (e.g., prod-web, prod-app, prod-db) for better network segmentation, isolation, and more granular security controls."
   ]
  },
  {
   "cell_type": "code",
   "execution_count": null,
   "id": "818c9ee2",
   "metadata": {},
   "outputs": [],
   "source": [
    "# gcloud dataproc clusters create example-cluster \\\n",
    "#     --enable-component-gateway \\\n",
    "#     --worker-boot-disk-size 500 \\\n",
    "#     --image-version 2.2-debian12 \\\n",
    "#     --worker-machine-type=e2-standard-4 \\\n",
    "#     --master-machine-type=e2-standard-4 \\\n",
    "#     --no-address \\\n",
    "#     --optional-components=JUPYTER \\\n",
    "#     --labels=mode=workshop,user=zelda\n",
    "\n",
    "\n",
    "gcloud dataproc clusters create example-cluster\\\n",
    "  --enable-component-gateway\\\n",
    "  --bucket=eurobet-dataproc-workshop\\\n",
    "  --region=europe-west1\\\n",
    "  --no-address\\\n",
    "  --master-machine-type=n4-standard-2\\\n",
    "  --master-boot-disk-type=hyperdisk-balanced\\\n",
    "  --master-boot-disk-size=100\\\n",
    "  --num-workers=2\\\n",
    "  --worker-machine-type=n4-standard-2\\\n",
    "  --worker-boot-disk-size=200\\\n",
    "  --image-version=2.2-debian12\\\n",
    "  --optional-components JUPYTER\\\n",
    "  --max-age=3600s\\\n",
    "  --labels=mode=workshop,user=zelda\\\n",
    "  --project=$PROJECT_ID"
   ]
  },
  {
   "cell_type": "markdown",
   "id": "2a695dd9",
   "metadata": {},
   "source": [
    "This is the core command to create your Dataproc cluster. Let's look at the new flags:\n",
    "\n",
    "  * **`--enable-component-gateway`**: This explicitly enables the Component Gateway. While `--optional-components=JUPYTER` would typically enable it implicitly, this makes it explicit and ensures other component UIs are also accessible. The Component Gateway acts as a secure proxy to the web interfaces running on your cluster's master node (like Jupyter, YARN UI, Spark UI).\n",
    "  * **`--image-version 2.2-debian12`**: it's recommended to specify an image version for consistency. `2.2-debian12` indicates a Dataproc image based on Debian 12 with Dataproc version 2.2.\n",
    "  * **`--no-address`**: As discussed, this creates your cluster VMs without external public IP addresses, enhancing security. This flag requires Private Google Access to be enabled on the subnetwork, which you did in the previous step.\n",
    "  * **`--optional-components=JUPYTER`**: This is the crucial flag that tells Dataproc to install Jupyter (and usually JupyterLab) on the cluster's master node. When you specify JUPYTER as an optional component, Dataproc automatically enables the Component Gateway as well, which is what allows you to access the web UI.\n",
    "  * The other flags (**`--worker-boot-disk-size`**, **`--worker-machine-type`**, **`--master-machine-type`**) define the size and type of the virtual machines for your cluster.\n",
    "\n",
    "\n"
   ]
  },
  {
   "cell_type": "markdown",
   "id": "130a1eeb",
   "metadata": {},
   "source": [
    "### UseCase 1:  Jupyter Notebooks on DataProc\n",
    "\n",
    "You've taken all the right steps for a secure and functional Dataproc cluster with Jupyter\n",
    "\n",
    "1.  **Region and Project Setup:** Confirmed.\n",
    "2.  **Storage Admin Permissions:** Granted for the compute service account, allowing Spark to interact with GCS.\n",
    "3.  **Private Google Access:** Enabled, which is essential for `--no-address` clusters to communicate with Google services.\n",
    "4.  **Cluster Creation:**\n",
    "      * `example-cluster` created.\n",
    "      * `--enable-component-gateway` for UI access.\n",
    "      * Specific `2.2-debian12` image version used.\n",
    "      * `--no-address` for enhanced security.\n",
    "      * `JUPYTER` component included.\n",
    "\n",
    "**How to open Jupyter Notebook in the UI (reiterating from previous answer for completeness):**\n",
    "\n",
    "1.  **Go to the Google Cloud Console:** `https://console.cloud.google.com`\n",
    "2.  **Navigate to Dataproc Clusters:** From the navigation menu (☰), go to **Analytics \\> Dataproc \\> Clusters**.\n",
    "3.  **Select Your Cluster:** Click on the name of your cluster, `example-cluster`.\n",
    "4.  **Go to \"Web Interfaces\" Tab:** On the cluster details page, click the **Web Interfaces** tab.\n",
    "5.  **Click Jupyter/JupyterLab Link:** You will see a link for **Jupyter** or **JupyterLab**. Click on it to open the Jupyter interface in a new browser tab.\n"
   ]
  },
  {
   "attachments": {
    "image.png": {
     "image/png": "[encoded data removed]"
    }
   },
   "cell_type": "markdown",
   "id": "90806560",
   "metadata": {},
   "source": [
    "![image.png](attachment:image.png)"
   ]
  },
  {
   "cell_type": "markdown",
   "id": "2ef5eefc",
   "metadata": {},
   "source": [
    "\n",
    "6.  **Create a New Notebook:**\n",
    "    * In the Jupyter interface, select **New** -> **PySpark** (or Python 3, and ensure the PySpark kernel is available).\n",
    "\n",
    "7.  **Paste and Run Your Code:**\n",
    "    * Paste the code you provided into a cell in your new Jupyter Notebook.\n",
    "    * **Crucially, ensure the CSV file(s) exist at the specified Cloud Storage path `gs://<BUCKET_NAME>/data/`**. If not, replace this path with the actual path to your CSV data.\n",
    "    * Run the cell (Shift + Enter).\n",
    "\n"
   ]
  },
  {
   "cell_type": "code",
   "execution_count": null,
   "id": "7e7e23dd",
   "metadata": {},
   "outputs": [],
   "source": [
    "from pyspark.sql import SparkSession\n",
    "\n",
    "# Get or create a SparkSession\n",
    "spark = SparkSession.builder.appName(\"MyDataprocNotebook\").getOrCreate()\n",
    "\n",
    "# Read a CSV file from a Cloud Storage bucket\n",
    "# Replace 'bucket-name' and 'your-file.csv' with your actual bucket and file\n",
    "df = spark.read.csv(\"gs://<BUCKET_NAME>/data/*.csv\", header=True, inferSchema=True)\n",
    "\n",
    "df.show()"
   ]
  },
  {
   "cell_type": "markdown",
   "id": "4dad1d60",
   "metadata": {},
   "source": [
    "### Update a cluster\n",
    "\n",
    "You can update a running Google Cloud Dataproc cluster to modify its resources, primarily for scaling or managing metadata. The most common tool for this is the gcloud command-line interface.\n",
    "\n",
    "It is important to understand that not all cluster properties can be updated. Core configurations like the machine type, image version, and network settings cannot be changed on a running cluster. For those changes, you must create a new cluster with the desired configuration.\n",
    "\n",
    "Here are the most common update operations you can perform on a live Dataproc cluster:\n",
    "\n",
    "#### **Scaling the Number of Worker Nodes:** \n",
    "This is the most frequent update operation, allowing you to add or remove worker nodes to adjust to your workload's demands (scaling out or in).\n"
   ]
  },
  {
   "cell_type": "code",
   "execution_count": null,
   "id": "8b844d94",
   "metadata": {},
   "outputs": [],
   "source": [
    "gcloud dataproc clusters update your-cluster-name \\\n",
    "    --region=your-region \\\n",
    "    --num-workers=5"
   ]
  },
  {
   "cell_type": "markdown",
   "id": "6b6f92cb",
   "metadata": {},
   "source": [
    "#### **Set a specific number of secondary (preemptible) workers:** \n",
    "\n",
    "To set a specific number of secondary (preemptible) workers, you use the `--num-secondary-workers` flag when creating your Dataproc cluster. These workers are cost-effective but can be preempted (shut down) by Google Cloud, making them suitable for fault-tolerant workloads.\n"
   ]
  },
  {
   "cell_type": "code",
   "execution_count": null,
   "id": "58bc9b9d",
   "metadata": {},
   "outputs": [],
   "source": [
    "\n",
    "gcloud dataproc clusters create example-cluster \\\n",
    "    --region=us-central1 \\\n",
    "    --zone=us-central1-b \\\n",
    "    --master-machine-type=n1-standard-4 \\\n",
    "    --worker-machine-type=n1-standard-4 \\\n",
    "    --num-workers=2 \\\n",
    "    --num-secondary-workers=4 \\\n",
    "    --secondary-worker-machine-type=n1-standard-4 \\\n",
    "    --image-version=2.1-debian11 \\\n",
    "    --scopes=cloud-platform \\\n",
    "    --project=my-gcp-project-12345\n"
   ]
  },
  {
   "cell_type": "markdown",
   "id": "c8a2aec3",
   "metadata": {},
   "source": [
    "**Explanation of New/Modified Parameters:**\n",
    "\n",
    "  * **`--num-workers=2`**: This remains the number of **primary (on-demand) workers**. These workers are stable and not subject to preemption.\n",
    "  * **`--num-secondary-workers=4`**: This is the new flag. It specifies that you want **4 secondary (preemptible) workers** in addition to your primary workers.\n",
    "  * **`--secondary-worker-machine-type=n1-standard-4`**: (Optional, but good practice to specify if different from primary) This flag allows you to define the machine type for your secondary workers. In this example, it's the same as the primary workers, but you could use a different type if desired (e.g., smaller instances for burst capacity).\n",
    "\n",
    "**Why use secondary (preemptible) workers?**\n",
    "\n",
    "  * **Cost Savings:** Preemptible VMs are significantly cheaper (up to 80% off) than standard VMs.\n",
    "  * **Scalability for Bursty Workloads:** They allow you to add a large amount of compute power for a fraction of the cost, ideal for jobs that can tolerate worker loss and retries (which Spark is generally good at).\n",
    "  * **Improved Throughput:** More workers mean more parallel processing, potentially reducing job completion times for large datasets.\n",
    "\n",
    "**Considerations when using secondary workers:**\n",
    "\n",
    "  * **Preemption:** Secondary workers can be shut down by Google Cloud with a 30-second warning. Spark jobs should be designed to handle this gracefully (e.g., by recomputing lost partitions, which Spark's fault tolerance generally does automatically).\n",
    "  * **Stateful Operations:** Avoid using secondary workers for highly stateful operations that would be severely impacted by worker loss.\n",
    "  * **Driver Node:** Your master node (driver) should always be a primary (on-demand) VM.\n",
    "\n"
   ]
  },
  {
   "cell_type": "markdown",
   "id": "4ee2d16f",
   "metadata": {},
   "source": [
    "####  **Using Graceful Decommissioning**\n",
    "When scaling down, you can use graceful decommissioning to ensure that running tasks on the nodes being removed are not lost. This feature tells YARN to stop scheduling new tasks on those nodes and allows existing tasks to finish within a specified timeout.\n",
    "\n",
    "\n",
    "In this example, Dataproc will wait up to 3600 seconds (1 hour) for the work on the nodes being removed to complete before shutting them down."
   ]
  },
  {
   "cell_type": "code",
   "execution_count": null,
   "id": "cea5be1f",
   "metadata": {},
   "outputs": [],
   "source": [
    "gcloud dataproc clusters update your-cluster-name \\\n",
    "    --region=your-region \\\n",
    "    --num-workers=3 \\\n",
    "    --graceful-decommission-timeout=3600s"
   ]
  },
  {
   "cell_type": "markdown",
   "id": "ae81d359",
   "metadata": {},
   "source": [
    "####  **Updating Labels**\n",
    "Labels are key-value pairs that help you organize and manage your GCP resources, and assign costs based on a FinOps approach. You can add, update, or remove labels on a running cluster.\n",
    "\n",
    "To add or update labels, this command will add these two labels or update their values if the keys already exist.\n"
   ]
  },
  {
   "cell_type": "code",
   "execution_count": null,
   "id": "a717e724",
   "metadata": {},
   "outputs": [],
   "source": [
    "gcloud dataproc clusters update your-cluster-name \\\n",
    "    --region=your-region \\\n",
    "    --update-labels=env=production,cost_center=research,user=zelda"
   ]
  },
  {
   "cell_type": "markdown",
   "id": "71bcf88a",
   "metadata": {},
   "source": [
    "\n",
    "To remove a label:"
   ]
  },
  {
   "cell_type": "code",
   "execution_count": null,
   "id": "f79eaf9c",
   "metadata": {},
   "outputs": [],
   "source": [
    "!gcloud dataproc clusters update your-cluster-name \\\n",
    "    --region=your-region \\\n",
    "    --remove-labels=cost_center"
   ]
  },
  {
   "cell_type": "markdown",
   "id": "17916e3c",
   "metadata": {},
   "source": [
    "####  **Updating Autoscaling Policies**\n",
    "If you have an autoscaling policy attached to your cluster, you can update it to modify its scaling behavior. First, you might update the policy itself, and then you can re-apply it or attach a new one.\n",
    "\n",
    "To attach or update the autoscaling policy for a cluster:"
   ]
  },
  {
   "cell_type": "code",
   "execution_count": null,
   "id": "e77d4635",
   "metadata": {},
   "outputs": [],
   "source": [
    "gcloud dataproc clusters update your-cluster-name \\\n",
    "    --region=your-region \\\n",
    "    --update-autoscaling-policy=your-policy-id"
   ]
  },
  {
   "cell_type": "markdown",
   "id": "07963a97",
   "metadata": {},
   "source": [
    "Before you can use the update command, you must first create an Autoscaling Policy. This policy is a standalone resource in GCP that defines the logic for automatically adding or removing worker nodes from your cluster. The policy contains rules like:\n",
    "1. **Scaling Limits:**\n",
    "- The minimum number of workers the cluster must always have.\n",
    "- The maximum number of workers the cluster is allowed to scale up to (to control costs).\n",
    "2. **Scale-Up Rules (Adding Workers):** The trigger for adding more nodes. This is typically based on YARN metrics, like how much memory is pending for allocation. For example: \"If the cluster needs more memory than is available for 1 minute, start adding workers.\"\n",
    "3. **Scale-Down Rules (Removing Workers):** The trigger for removing idle nodes. For example: \"If there are idle nodes with no running tasks for 10 minutes, start removing them.\"\n",
    "4. **Cooldown Period:** A waiting period after a scaling action to prevent the cluster from scaling up and down too rapidly (known as \"flapping\").\n",
    "\n",
    "\n",
    "The key benefit is that you can create one policy and apply it to multiple clusters, ensuring consistent scaling behavior everywhere.\n",
    "\n",
    "\n",
    "\n",
    "**example**: This command creates a policy  named balanced-scaling-policy that keeps between 2 and 50 workers, scales up aggressively (adding 50% more workers when needed), and scales down cautiously (removing 10% of workers when idle)."
   ]
  },
  {
   "cell_type": "code",
   "execution_count": null,
   "id": "4a051898",
   "metadata": {},
   "outputs": [],
   "source": [
    "gcloud dataproc autoscaling-policies create balanced-scaling-policy \\\n",
    "    --region=your-region \\\n",
    "    --project=your-project-id \\\n",
    "    --set-basic-algorithm-yarn-config=graceful-decommission-timeout=300s,scale-up-factor=0.5,scale-down-factor=0.1 \\\n",
    "    --max-primary-workers=50 \\\n",
    "    --min-primary-workers=2"
   ]
  },
  {
   "cell_type": "markdown",
   "id": "0ad04bec",
   "metadata": {},
   "source": [
    "\n",
    "### Delete a cluster \n",
    "\n",
    "A **Google Dataproc cluster does not delete itself by default.** Once you create a standard cluster, it will continue to run and incur costs until you manually delete it.\n",
    "\n",
    "To have a cluster delete itself automatically, you must configure this behavior at the time of creation. There are two primary ways to do this:\n",
    "\n",
    "#### **Scheduled Deletion (Based on Age)**\n",
    "This feature automatically deletes the cluster after a specific amount of time has passed since its creation. It's like setting a self-destruct timer.\n",
    "\n",
    "- **How it works:** You specify a maximum age for the cluster. Once the cluster reaches this age, Dataproc will automatically start the deletion process, regardless of whether it is running a job or is idle.\n",
    "- **Use Case:** This is ideal for jobs with a predictable maximum runtime. For example, if you know your data processing task will never take more than 4 hours, you can set the max age to 4h to ensure you don't forget to delete it.\n",
    "- **Command Flag:** --max-age\n",
    "- **Example:** This command creates a cluster that will automatically delete itself after 4 hours.\n",
    "\n"
   ]
  },
  {
   "cell_type": "code",
   "execution_count": null,
   "id": "8c395508",
   "metadata": {},
   "outputs": [],
   "source": [
    "gcloud dataproc clusters create my-temp-cluster \\\n",
    "    --region=us-central1 \\\n",
    "    --max-age=4h \\\n",
    "    --num-workers=2\n",
    "gcloud dataproc clusters delete example-cluster --region=europe-west1"
   ]
  },
  {
   "cell_type": "markdown",
   "id": "c7bb0710",
   "metadata": {},
   "source": [
    "#### **Deletion Based on Idle Time**\n",
    "This feature automatically deletes the cluster after it has been \"idle\" (not running any jobs) for a specified period.\n",
    "- **How it works:** Dataproc monitors the cluster for active jobs. If no jobs are running for the duration you set, the cluster is considered idle and the deletion process begins. If a new job is submitted, the idle timer resets.\n",
    "- **Use Case:** This is perfect for ad-hoc or interactive clusters, like a cluster used for development or data exploration with a Jupyter notebook. You use it when you need it, and if you forget to shut it down, it will clean itself up after a period of inactivity.\n",
    "- **Command Flag:** --max-idle\n",
    "- **Example:** This command creates a cluster that will automatically delete itself after being idle for 30 minutes.\n"
   ]
  },
  {
   "cell_type": "code",
   "execution_count": null,
   "id": "24a00b9c",
   "metadata": {},
   "outputs": [],
   "source": [
    "gcloud dataproc clusters create my-interactive-cluster \\\n",
    "    --region=us-central1 \\\n",
    "    --max-idle=30m \\\n",
    "    --num-workers=2\n"
   ]
  },
  {
   "cell_type": "markdown",
   "id": "fd972c13",
   "metadata": {},
   "source": [
    "**Summary of Differences**\n",
    "\n",
    "| Feature\t | --max-age (Scheduled Deletion)\t| --max-idle (Max Idle Time)  |\n",
    "|---|---|----|\n",
    "| Trigger\t| Time since creation (cluster's age) | \tTime since the last job finished (idle duration)  |\n",
    "| Ideal For\t|  Batch jobs with predictable runtimes | \tInteractive, ad-hoc, or development clusters  |\n",
    "| Behavior | \tDeletes even if a job is still running\t| Only deletes when the cluster is not running jobs  |\n",
    "\n",
    "\n",
    "A third, more advanced option is to use Dataproc Workflow Templates. In this approach, you define a series of jobs as a workflow, and the workflow template manages the entire lifecycle of a cluster specifically for that workflow: \n",
    "\n",
    "The workflow automatically creates a new, temporary cluster specifically for the jobs.\n",
    "It runs all the specified jobs on that cluster.\n",
    "Once the jobs are finished, it automatically deletes the cluster.\n",
    "This is the most efficient method as the cluster exists only for the exact duration needed to run your workload."
   ]
  }
 ],
 "metadata": {
  "language_info": {
   "name": "python"
  }
 },
 "nbformat": 4,
 "nbformat_minor": 5
}
