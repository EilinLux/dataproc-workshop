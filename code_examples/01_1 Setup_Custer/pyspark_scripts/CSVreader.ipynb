{
 "cells": [
  {
   "cell_type": "code",
   "execution_count": null,
   "id": "fc63a8ed",
   "metadata": {},
   "outputs": [],
   "source": [
    "from pyspark.sql import SparkSession\n",
    "\n",
    "# Get or create a SparkSession\n",
    "spark = SparkSession.builder.appName(\"MyDataprocNotebook\").getOrCreate()\n",
    "\n",
    "# Read a CSV file from a Cloud Storage bucket\n",
    "# Replace with your actual bucket and file\n",
    "df = spark.read.csv(\"gs://<BUCKET_NAME>/data/*.csv\", header=True, inferSchema=True)\n",
    "\n",
    "df.show()"
   ]
  }
 ],
 "metadata": {
  "language_info": {
   "name": "python"
  }
 },
 "nbformat": 4,
 "nbformat_minor": 5
}
